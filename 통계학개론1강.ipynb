{
  "nbformat": 4,
  "nbformat_minor": 0,
  "metadata": {
    "colab": {
      "provenance": [],
      "authorship_tag": "ABX9TyMcXxpIbjH0bMirsdq/syl1",
      "include_colab_link": true
    },
    "kernelspec": {
      "name": "ir",
      "display_name": "R"
    },
    "language_info": {
      "name": "R"
    }
  },
  "cells": [
    {
      "cell_type": "markdown",
      "metadata": {
        "id": "view-in-github",
        "colab_type": "text"
      },
      "source": [
        "<a href=\"https://colab.research.google.com/github/jihopark-blue/studyingisfun/blob/main/%ED%86%B5%EA%B3%84%ED%95%99%EA%B0%9C%EB%A1%A01%EA%B0%95.ipynb\" target=\"_parent\"><img src=\"https://colab.research.google.com/assets/colab-badge.svg\" alt=\"Open In Colab\"/></a>"
      ]
    },
    {
      "cell_type": "markdown",
      "source": [
        "## 객체의 생성과 저장"
      ],
      "metadata": {
        "id": "BOaFAthiVdbC"
      }
    },
    {
      "cell_type": "markdown",
      "source": [
        "객체 이름 <- 저장하고 싶은 값"
      ],
      "metadata": {
        "id": "cOYaj38jXqgb"
      }
    },
    {
      "cell_type": "code",
      "execution_count": 1,
      "metadata": {
        "colab": {
          "base_uri": "https://localhost:8080/",
          "height": 34
        },
        "id": "lpeDZ940VF16",
        "outputId": "f6b4c4b4-f760-46ef-acd4-84781b079516"
      },
      "outputs": [
        {
          "output_type": "display_data",
          "data": {
            "text/html": [
              "2"
            ],
            "text/markdown": "2",
            "text/latex": "2",
            "text/plain": [
              "[1] 2"
            ]
          },
          "metadata": {}
        }
      ],
      "source": [
        "a <- 1\n",
        "b <- 1\n",
        "c <- a+b\n",
        "c"
      ]
    },
    {
      "cell_type": "markdown",
      "source": [
        "## 벡터(vector)"
      ],
      "metadata": {
        "id": "_VonGu-_Vf8b"
      }
    },
    {
      "cell_type": "markdown",
      "source": [
        "- 벡터: 어떤 요소(값)들이 일렬로 늘어선 것\n",
        "- 벡터를 만드는 법\n",
        "    - c() 함수 안에 벡터의 각 요소를 쉼표로 구분하여 넣는다.\n",
        "    - seq() 등의 함수를 이용한다."
      ],
      "metadata": {
        "id": "mudZMKdCXs2z"
      }
    },
    {
      "cell_type": "code",
      "source": [
        "height <- c(165, 151, 162, 160, 151, 152, 159, 163, 143, 161)\n",
        "height"
      ],
      "metadata": {
        "colab": {
          "base_uri": "https://localhost:8080/",
          "height": 34
        },
        "id": "lgo0cmGmXePL",
        "outputId": "8059c0e1-1394-4eab-934d-b975392b89ea"
      },
      "execution_count": 24,
      "outputs": [
        {
          "output_type": "display_data",
          "data": {
            "text/html": [
              "<style>\n",
              ".list-inline {list-style: none; margin:0; padding: 0}\n",
              ".list-inline>li {display: inline-block}\n",
              ".list-inline>li:not(:last-child)::after {content: \"\\00b7\"; padding: 0 .5ex}\n",
              "</style>\n",
              "<ol class=list-inline><li>165</li><li>151</li><li>162</li><li>160</li><li>151</li><li>152</li><li>159</li><li>163</li><li>143</li><li>161</li></ol>\n"
            ],
            "text/markdown": "1. 165\n2. 151\n3. 162\n4. 160\n5. 151\n6. 152\n7. 159\n8. 163\n9. 143\n10. 161\n\n\n",
            "text/latex": "\\begin{enumerate*}\n\\item 165\n\\item 151\n\\item 162\n\\item 160\n\\item 151\n\\item 152\n\\item 159\n\\item 163\n\\item 143\n\\item 161\n\\end{enumerate*}\n",
            "text/plain": [
              " [1] 165 151 162 160 151 152 159 163 143 161"
            ]
          },
          "metadata": {}
        }
      ]
    },
    {
      "cell_type": "code",
      "source": [
        "d <- 1:3\n",
        "d"
      ],
      "metadata": {
        "colab": {
          "base_uri": "https://localhost:8080/",
          "height": 34
        },
        "id": "n0dMK1eFXf_L",
        "outputId": "624b8214-2028-4681-b42f-71acdffb30b2"
      },
      "execution_count": 25,
      "outputs": [
        {
          "output_type": "display_data",
          "data": {
            "text/html": [
              "<style>\n",
              ".list-inline {list-style: none; margin:0; padding: 0}\n",
              ".list-inline>li {display: inline-block}\n",
              ".list-inline>li:not(:last-child)::after {content: \"\\00b7\"; padding: 0 .5ex}\n",
              "</style>\n",
              "<ol class=list-inline><li>1</li><li>2</li><li>3</li></ol>\n"
            ],
            "text/markdown": "1. 1\n2. 2\n3. 3\n\n\n",
            "text/latex": "\\begin{enumerate*}\n\\item 1\n\\item 2\n\\item 3\n\\end{enumerate*}\n",
            "text/plain": [
              "[1] 1 2 3"
            ]
          },
          "metadata": {}
        }
      ]
    },
    {
      "cell_type": "code",
      "source": [
        "e <- seq(1, 9, 2)\n",
        "e"
      ],
      "metadata": {
        "colab": {
          "base_uri": "https://localhost:8080/",
          "height": 34
        },
        "id": "kYs8duWQXhPz",
        "outputId": "c373ab32-bce4-4ca2-d925-51398d9bc6ae"
      },
      "execution_count": 26,
      "outputs": [
        {
          "output_type": "display_data",
          "data": {
            "text/html": [
              "<style>\n",
              ".list-inline {list-style: none; margin:0; padding: 0}\n",
              ".list-inline>li {display: inline-block}\n",
              ".list-inline>li:not(:last-child)::after {content: \"\\00b7\"; padding: 0 .5ex}\n",
              "</style>\n",
              "<ol class=list-inline><li>1</li><li>3</li><li>5</li><li>7</li><li>9</li></ol>\n"
            ],
            "text/markdown": "1. 1\n2. 3\n3. 5\n4. 7\n5. 9\n\n\n",
            "text/latex": "\\begin{enumerate*}\n\\item 1\n\\item 3\n\\item 5\n\\item 7\n\\item 9\n\\end{enumerate*}\n",
            "text/plain": [
              "[1] 1 3 5 7 9"
            ]
          },
          "metadata": {}
        }
      ]
    },
    {
      "cell_type": "code",
      "source": [
        "f <- rep(10, 5)\n",
        "f"
      ],
      "metadata": {
        "colab": {
          "base_uri": "https://localhost:8080/",
          "height": 34
        },
        "id": "Vs8mduA8Xiqb",
        "outputId": "6c62105e-0ef5-4c01-b571-ae1d43b25d48"
      },
      "execution_count": 28,
      "outputs": [
        {
          "output_type": "display_data",
          "data": {
            "text/html": [
              "<style>\n",
              ".list-inline {list-style: none; margin:0; padding: 0}\n",
              ".list-inline>li {display: inline-block}\n",
              ".list-inline>li:not(:last-child)::after {content: \"\\00b7\"; padding: 0 .5ex}\n",
              "</style>\n",
              "<ol class=list-inline><li>10</li><li>10</li><li>10</li><li>10</li><li>10</li></ol>\n"
            ],
            "text/markdown": "1. 10\n2. 10\n3. 10\n4. 10\n5. 10\n\n\n",
            "text/latex": "\\begin{enumerate*}\n\\item 10\n\\item 10\n\\item 10\n\\item 10\n\\item 10\n\\end{enumerate*}\n",
            "text/plain": [
              "[1] 10 10 10 10 10"
            ]
          },
          "metadata": {}
        }
      ]
    },
    {
      "cell_type": "code",
      "source": [
        "g <- c(d, f)\n",
        "g"
      ],
      "metadata": {
        "colab": {
          "base_uri": "https://localhost:8080/",
          "height": 34
        },
        "id": "iq0QvtsNXlhT",
        "outputId": "7232d2df-c2af-415a-fac3-6abecf4d0db1"
      },
      "execution_count": 29,
      "outputs": [
        {
          "output_type": "display_data",
          "data": {
            "text/html": [
              "<style>\n",
              ".list-inline {list-style: none; margin:0; padding: 0}\n",
              ".list-inline>li {display: inline-block}\n",
              ".list-inline>li:not(:last-child)::after {content: \"\\00b7\"; padding: 0 .5ex}\n",
              "</style>\n",
              "<ol class=list-inline><li>1</li><li>2</li><li>3</li><li>10</li><li>10</li><li>10</li><li>10</li><li>10</li></ol>\n"
            ],
            "text/markdown": "1. 1\n2. 2\n3. 3\n4. 10\n5. 10\n6. 10\n7. 10\n8. 10\n\n\n",
            "text/latex": "\\begin{enumerate*}\n\\item 1\n\\item 2\n\\item 3\n\\item 10\n\\item 10\n\\item 10\n\\item 10\n\\item 10\n\\end{enumerate*}\n",
            "text/plain": [
              "[1]  1  2  3 10 10 10 10 10"
            ]
          },
          "metadata": {}
        }
      ]
    },
    {
      "cell_type": "code",
      "source": [
        "h <- c(4:1, seq(0, 9, 3))\n",
        "h"
      ],
      "metadata": {
        "colab": {
          "base_uri": "https://localhost:8080/",
          "height": 34
        },
        "id": "LzOSIS-GXm80",
        "outputId": "5a455ad9-54c3-4a74-80dc-ecae783f5b52"
      },
      "execution_count": 30,
      "outputs": [
        {
          "output_type": "display_data",
          "data": {
            "text/html": [
              "<style>\n",
              ".list-inline {list-style: none; margin:0; padding: 0}\n",
              ".list-inline>li {display: inline-block}\n",
              ".list-inline>li:not(:last-child)::after {content: \"\\00b7\"; padding: 0 .5ex}\n",
              "</style>\n",
              "<ol class=list-inline><li>4</li><li>3</li><li>2</li><li>1</li><li>0</li><li>3</li><li>6</li><li>9</li></ol>\n"
            ],
            "text/markdown": "1. 4\n2. 3\n3. 2\n4. 1\n5. 0\n6. 3\n7. 6\n8. 9\n\n\n",
            "text/latex": "\\begin{enumerate*}\n\\item 4\n\\item 3\n\\item 2\n\\item 1\n\\item 0\n\\item 3\n\\item 6\n\\item 9\n\\end{enumerate*}\n",
            "text/plain": [
              "[1] 4 3 2 1 0 3 6 9"
            ]
          },
          "metadata": {}
        }
      ]
    },
    {
      "cell_type": "markdown",
      "source": [
        "## 벡터의 연산"
      ],
      "metadata": {
        "id": "BnVbPx2MYLwb"
      }
    },
    {
      "cell_type": "markdown",
      "source": [
        "- 벡터들 간 사칙연산 가능\n",
        "    - 벡터의 길이가 같은 경우: 각 벡터에서 같은 위치에 있는 숫자끼리 연산\n",
        "    - 벡터의 길이가 다른 경우: 길이가 짧은 벡터의 각 요소를 앞에서부터 재활용하면서 연산 (경고 메시지 출력)"
      ],
      "metadata": {
        "id": "M1CijZmDX3mz"
      }
    },
    {
      "cell_type": "code",
      "source": [
        "e+f"
      ],
      "metadata": {
        "colab": {
          "base_uri": "https://localhost:8080/",
          "height": 34
        },
        "id": "pzumnIroVmA1",
        "outputId": "7052c053-17ef-4737-c0b2-b7713b8e4a8e"
      },
      "execution_count": 23,
      "outputs": [
        {
          "output_type": "display_data",
          "data": {
            "text/html": [
              "<style>\n",
              ".list-inline {list-style: none; margin:0; padding: 0}\n",
              ".list-inline>li {display: inline-block}\n",
              ".list-inline>li:not(:last-child)::after {content: \"\\00b7\"; padding: 0 .5ex}\n",
              "</style>\n",
              "<ol class=list-inline><li>11</li><li>13</li><li>15</li><li>17</li><li>19</li></ol>\n"
            ],
            "text/markdown": "1. 11\n2. 13\n3. 15\n4. 17\n5. 19\n\n\n",
            "text/latex": "\\begin{enumerate*}\n\\item 11\n\\item 13\n\\item 15\n\\item 17\n\\item 19\n\\end{enumerate*}\n",
            "text/plain": [
              "[1] 11 13 15 17 19"
            ]
          },
          "metadata": {}
        }
      ]
    },
    {
      "cell_type": "code",
      "source": [
        "e-f"
      ],
      "metadata": {
        "colab": {
          "base_uri": "https://localhost:8080/",
          "height": 34
        },
        "id": "GkU9v1l-W5Y_",
        "outputId": "43703d5f-1874-4fe7-f163-a53831f5f8da"
      },
      "execution_count": 5,
      "outputs": [
        {
          "output_type": "display_data",
          "data": {
            "text/html": [
              "<style>\n",
              ".list-inline {list-style: none; margin:0; padding: 0}\n",
              ".list-inline>li {display: inline-block}\n",
              ".list-inline>li:not(:last-child)::after {content: \"\\00b7\"; padding: 0 .5ex}\n",
              "</style>\n",
              "<ol class=list-inline><li>-9</li><li>-7</li><li>-5</li><li>-3</li><li>-1</li></ol>\n"
            ],
            "text/markdown": "1. -9\n2. -7\n3. -5\n4. -3\n5. -1\n\n\n",
            "text/latex": "\\begin{enumerate*}\n\\item -9\n\\item -7\n\\item -5\n\\item -3\n\\item -1\n\\end{enumerate*}\n",
            "text/plain": [
              "[1] -9 -7 -5 -3 -1"
            ]
          },
          "metadata": {}
        }
      ]
    },
    {
      "cell_type": "code",
      "source": [
        "e*f"
      ],
      "metadata": {
        "colab": {
          "base_uri": "https://localhost:8080/",
          "height": 34
        },
        "id": "kESgzAHEW5-u",
        "outputId": "84529d3f-11c4-4e2b-ecef-3c0d138daffd"
      },
      "execution_count": 6,
      "outputs": [
        {
          "output_type": "display_data",
          "data": {
            "text/html": [
              "<style>\n",
              ".list-inline {list-style: none; margin:0; padding: 0}\n",
              ".list-inline>li {display: inline-block}\n",
              ".list-inline>li:not(:last-child)::after {content: \"\\00b7\"; padding: 0 .5ex}\n",
              "</style>\n",
              "<ol class=list-inline><li>10</li><li>30</li><li>50</li><li>70</li><li>90</li></ol>\n"
            ],
            "text/markdown": "1. 10\n2. 30\n3. 50\n4. 70\n5. 90\n\n\n",
            "text/latex": "\\begin{enumerate*}\n\\item 10\n\\item 30\n\\item 50\n\\item 70\n\\item 90\n\\end{enumerate*}\n",
            "text/plain": [
              "[1] 10 30 50 70 90"
            ]
          },
          "metadata": {}
        }
      ]
    },
    {
      "cell_type": "code",
      "source": [
        "e/f"
      ],
      "metadata": {
        "colab": {
          "base_uri": "https://localhost:8080/",
          "height": 34
        },
        "id": "qiA3BfI8W6g_",
        "outputId": "36a488ec-eecf-40e4-927e-147584c42969"
      },
      "execution_count": 7,
      "outputs": [
        {
          "output_type": "display_data",
          "data": {
            "text/html": [
              "<style>\n",
              ".list-inline {list-style: none; margin:0; padding: 0}\n",
              ".list-inline>li {display: inline-block}\n",
              ".list-inline>li:not(:last-child)::after {content: \"\\00b7\"; padding: 0 .5ex}\n",
              "</style>\n",
              "<ol class=list-inline><li>0.1</li><li>0.3</li><li>0.5</li><li>0.7</li><li>0.9</li></ol>\n"
            ],
            "text/markdown": "1. 0.1\n2. 0.3\n3. 0.5\n4. 0.7\n5. 0.9\n\n\n",
            "text/latex": "\\begin{enumerate*}\n\\item 0.1\n\\item 0.3\n\\item 0.5\n\\item 0.7\n\\item 0.9\n\\end{enumerate*}\n",
            "text/plain": [
              "[1] 0.1 0.3 0.5 0.7 0.9"
            ]
          },
          "metadata": {}
        }
      ]
    },
    {
      "cell_type": "code",
      "source": [
        "d+f"
      ],
      "metadata": {
        "colab": {
          "base_uri": "https://localhost:8080/",
          "height": 71
        },
        "id": "nLz3Eu_HW66r",
        "outputId": "89d1e861-4d70-4112-81a9-dc1c8e8968e2"
      },
      "execution_count": 8,
      "outputs": [
        {
          "output_type": "stream",
          "name": "stderr",
          "text": [
            "Warning message in d + f:\n",
            "“longer object length is not a multiple of shorter object length”\n"
          ]
        },
        {
          "output_type": "display_data",
          "data": {
            "text/html": [
              "<style>\n",
              ".list-inline {list-style: none; margin:0; padding: 0}\n",
              ".list-inline>li {display: inline-block}\n",
              ".list-inline>li:not(:last-child)::after {content: \"\\00b7\"; padding: 0 .5ex}\n",
              "</style>\n",
              "<ol class=list-inline><li>11</li><li>12</li><li>13</li><li>11</li><li>12</li></ol>\n"
            ],
            "text/markdown": "1. 11\n2. 12\n3. 13\n4. 11\n5. 12\n\n\n",
            "text/latex": "\\begin{enumerate*}\n\\item 11\n\\item 12\n\\item 13\n\\item 11\n\\item 12\n\\end{enumerate*}\n",
            "text/plain": [
              "[1] 11 12 13 11 12"
            ]
          },
          "metadata": {}
        }
      ]
    },
    {
      "cell_type": "markdown",
      "source": [
        "## 데이터형"
      ],
      "metadata": {
        "id": "dmyCXQUjW81D"
      }
    },
    {
      "cell_type": "markdown",
      "source": [
        "- 숫자형: 사칙연산 가능\n",
        "- 범주형: factor() 또는 as.factor() 이용하여 생성\n",
        "- 문자형: as.character() 이용하여 생성\n",
        "- 논리형: TRUE 또는 FALSE 값을 가진다."
      ],
      "metadata": {
        "id": "2nWYjJlVYN4z"
      }
    },
    {
      "cell_type": "code",
      "source": [
        "i <- 1:4\n",
        "j <- as.factor(1:4)"
      ],
      "metadata": {
        "id": "9CsANz1nW7si"
      },
      "execution_count": 9,
      "outputs": []
    },
    {
      "cell_type": "code",
      "source": [
        "i+1"
      ],
      "metadata": {
        "colab": {
          "base_uri": "https://localhost:8080/",
          "height": 34
        },
        "id": "33v-BbawXB4F",
        "outputId": "ccd41c9d-ee34-4a5b-fcea-ef8bb021c4a7"
      },
      "execution_count": 10,
      "outputs": [
        {
          "output_type": "display_data",
          "data": {
            "text/html": [
              "<style>\n",
              ".list-inline {list-style: none; margin:0; padding: 0}\n",
              ".list-inline>li {display: inline-block}\n",
              ".list-inline>li:not(:last-child)::after {content: \"\\00b7\"; padding: 0 .5ex}\n",
              "</style>\n",
              "<ol class=list-inline><li>2</li><li>3</li><li>4</li><li>5</li></ol>\n"
            ],
            "text/markdown": "1. 2\n2. 3\n3. 4\n4. 5\n\n\n",
            "text/latex": "\\begin{enumerate*}\n\\item 2\n\\item 3\n\\item 4\n\\item 5\n\\end{enumerate*}\n",
            "text/plain": [
              "[1] 2 3 4 5"
            ]
          },
          "metadata": {}
        }
      ]
    },
    {
      "cell_type": "code",
      "source": [
        "j+1"
      ],
      "metadata": {
        "colab": {
          "base_uri": "https://localhost:8080/",
          "height": 71
        },
        "id": "XBoKM4mdXCV2",
        "outputId": "21d87d5a-9f98-4f0b-892c-bf49ca9fd5f7"
      },
      "execution_count": 11,
      "outputs": [
        {
          "output_type": "stream",
          "name": "stderr",
          "text": [
            "Warning message in Ops.factor(j, 1):\n",
            "“‘+’ not meaningful for factors”\n"
          ]
        },
        {
          "output_type": "display_data",
          "data": {
            "text/html": [
              "<style>\n",
              ".list-inline {list-style: none; margin:0; padding: 0}\n",
              ".list-inline>li {display: inline-block}\n",
              ".list-inline>li:not(:last-child)::after {content: \"\\00b7\"; padding: 0 .5ex}\n",
              "</style>\n",
              "<ol class=list-inline><li>&lt;NA&gt;</li><li>&lt;NA&gt;</li><li>&lt;NA&gt;</li><li>&lt;NA&gt;</li></ol>\n"
            ],
            "text/markdown": "1. &lt;NA&gt;\n2. &lt;NA&gt;\n3. &lt;NA&gt;\n4. &lt;NA&gt;\n\n\n",
            "text/latex": "\\begin{enumerate*}\n\\item <NA>\n\\item <NA>\n\\item <NA>\n\\item <NA>\n\\end{enumerate*}\n",
            "text/plain": [
              "[1] NA NA NA NA"
            ]
          },
          "metadata": {}
        }
      ]
    },
    {
      "cell_type": "code",
      "source": [
        "k <- as.character(1:4)\n",
        "k"
      ],
      "metadata": {
        "colab": {
          "base_uri": "https://localhost:8080/",
          "height": 34
        },
        "id": "MhvULCPaXC5U",
        "outputId": "5696db90-814d-4435-95b0-a89be16dfdff"
      },
      "execution_count": 32,
      "outputs": [
        {
          "output_type": "display_data",
          "data": {
            "text/html": [
              "<style>\n",
              ".list-inline {list-style: none; margin:0; padding: 0}\n",
              ".list-inline>li {display: inline-block}\n",
              ".list-inline>li:not(:last-child)::after {content: \"\\00b7\"; padding: 0 .5ex}\n",
              "</style>\n",
              "<ol class=list-inline><li>'1'</li><li>'2'</li><li>'3'</li><li>'4'</li></ol>\n"
            ],
            "text/markdown": "1. '1'\n2. '2'\n3. '3'\n4. '4'\n\n\n",
            "text/latex": "\\begin{enumerate*}\n\\item '1'\n\\item '2'\n\\item '3'\n\\item '4'\n\\end{enumerate*}\n",
            "text/plain": [
              "[1] \"1\" \"2\" \"3\" \"4\""
            ]
          },
          "metadata": {}
        }
      ]
    },
    {
      "cell_type": "code",
      "source": [
        "l <- c(\"K\", \"N\", \"O\", \"U\")\n",
        "l"
      ],
      "metadata": {
        "colab": {
          "base_uri": "https://localhost:8080/",
          "height": 34
        },
        "id": "4MRcId8DXKTl",
        "outputId": "b8f599c5-5bb7-4a11-bcd5-9138aa8f90e4"
      },
      "execution_count": 33,
      "outputs": [
        {
          "output_type": "display_data",
          "data": {
            "text/html": [
              "<style>\n",
              ".list-inline {list-style: none; margin:0; padding: 0}\n",
              ".list-inline>li {display: inline-block}\n",
              ".list-inline>li:not(:last-child)::after {content: \"\\00b7\"; padding: 0 .5ex}\n",
              "</style>\n",
              "<ol class=list-inline><li>'K'</li><li>'N'</li><li>'O'</li><li>'U'</li></ol>\n"
            ],
            "text/markdown": "1. 'K'\n2. 'N'\n3. 'O'\n4. 'U'\n\n\n",
            "text/latex": "\\begin{enumerate*}\n\\item 'K'\n\\item 'N'\n\\item 'O'\n\\item 'U'\n\\end{enumerate*}\n",
            "text/plain": [
              "[1] \"K\" \"N\" \"O\" \"U\""
            ]
          },
          "metadata": {}
        }
      ]
    },
    {
      "cell_type": "code",
      "source": [
        "m <- i>2\n",
        "m"
      ],
      "metadata": {
        "colab": {
          "base_uri": "https://localhost:8080/",
          "height": 34
        },
        "id": "TiOD9umsYcfs",
        "outputId": "91ddfe5f-9866-4c53-a848-8b5389eb4ebc"
      },
      "execution_count": 34,
      "outputs": [
        {
          "output_type": "display_data",
          "data": {
            "text/html": [
              "<style>\n",
              ".list-inline {list-style: none; margin:0; padding: 0}\n",
              ".list-inline>li {display: inline-block}\n",
              ".list-inline>li:not(:last-child)::after {content: \"\\00b7\"; padding: 0 .5ex}\n",
              "</style>\n",
              "<ol class=list-inline><li>FALSE</li><li>FALSE</li><li>TRUE</li><li>TRUE</li></ol>\n"
            ],
            "text/markdown": "1. FALSE\n2. FALSE\n3. TRUE\n4. TRUE\n\n\n",
            "text/latex": "\\begin{enumerate*}\n\\item FALSE\n\\item FALSE\n\\item TRUE\n\\item TRUE\n\\end{enumerate*}\n",
            "text/plain": [
              "[1] FALSE FALSE  TRUE  TRUE"
            ]
          },
          "metadata": {}
        }
      ]
    },
    {
      "cell_type": "markdown",
      "source": [
        "## 행렬(matrix)"
      ],
      "metadata": {
        "id": "Qcq8vzgrYiHj"
      }
    },
    {
      "cell_type": "markdown",
      "source": [
        "- 벡터 여러개의 모임\n",
        "- 행렬의 요소들은 데이터형이 모두 같아야 한다\n",
        "- cbind(), rbind(), matrix() 함수 이용해서 생성"
      ],
      "metadata": {
        "id": "FcWPwkzHYkLz"
      }
    },
    {
      "cell_type": "code",
      "source": [
        "n <- rep(10, 5)\n",
        "n"
      ],
      "metadata": {
        "colab": {
          "base_uri": "https://localhost:8080/",
          "height": 34
        },
        "id": "SlwrJVHgYdJ3",
        "outputId": "571ec141-6faa-44b7-9e54-a5463211742c"
      },
      "execution_count": 35,
      "outputs": [
        {
          "output_type": "display_data",
          "data": {
            "text/html": [
              "<style>\n",
              ".list-inline {list-style: none; margin:0; padding: 0}\n",
              ".list-inline>li {display: inline-block}\n",
              ".list-inline>li:not(:last-child)::after {content: \"\\00b7\"; padding: 0 .5ex}\n",
              "</style>\n",
              "<ol class=list-inline><li>10</li><li>10</li><li>10</li><li>10</li><li>10</li></ol>\n"
            ],
            "text/markdown": "1. 10\n2. 10\n3. 10\n4. 10\n5. 10\n\n\n",
            "text/latex": "\\begin{enumerate*}\n\\item 10\n\\item 10\n\\item 10\n\\item 10\n\\item 10\n\\end{enumerate*}\n",
            "text/plain": [
              "[1] 10 10 10 10 10"
            ]
          },
          "metadata": {}
        }
      ]
    },
    {
      "cell_type": "code",
      "source": [
        "o <- 1:5\n",
        "o"
      ],
      "metadata": {
        "colab": {
          "base_uri": "https://localhost:8080/",
          "height": 34
        },
        "id": "8boJ9IVfYtMs",
        "outputId": "90653352-51ee-4305-b674-894f0e9f0733"
      },
      "execution_count": 36,
      "outputs": [
        {
          "output_type": "display_data",
          "data": {
            "text/html": [
              "<style>\n",
              ".list-inline {list-style: none; margin:0; padding: 0}\n",
              ".list-inline>li {display: inline-block}\n",
              ".list-inline>li:not(:last-child)::after {content: \"\\00b7\"; padding: 0 .5ex}\n",
              "</style>\n",
              "<ol class=list-inline><li>1</li><li>2</li><li>3</li><li>4</li><li>5</li></ol>\n"
            ],
            "text/markdown": "1. 1\n2. 2\n3. 3\n4. 4\n5. 5\n\n\n",
            "text/latex": "\\begin{enumerate*}\n\\item 1\n\\item 2\n\\item 3\n\\item 4\n\\item 5\n\\end{enumerate*}\n",
            "text/plain": [
              "[1] 1 2 3 4 5"
            ]
          },
          "metadata": {}
        }
      ]
    },
    {
      "cell_type": "code",
      "source": [
        "p <- cbind(n, o)\n",
        "p"
      ],
      "metadata": {
        "colab": {
          "base_uri": "https://localhost:8080/",
          "height": 293
        },
        "id": "UwR8Mv2KYuXJ",
        "outputId": "05a7ee99-bc04-495f-e220-07b1b76d0e9e"
      },
      "execution_count": 37,
      "outputs": [
        {
          "output_type": "display_data",
          "data": {
            "text/html": [
              "<table class=\"dataframe\">\n",
              "<caption>A matrix: 5 × 2 of type dbl</caption>\n",
              "<thead>\n",
              "\t<tr><th scope=col>n</th><th scope=col>o</th></tr>\n",
              "</thead>\n",
              "<tbody>\n",
              "\t<tr><td>10</td><td>1</td></tr>\n",
              "\t<tr><td>10</td><td>2</td></tr>\n",
              "\t<tr><td>10</td><td>3</td></tr>\n",
              "\t<tr><td>10</td><td>4</td></tr>\n",
              "\t<tr><td>10</td><td>5</td></tr>\n",
              "</tbody>\n",
              "</table>\n"
            ],
            "text/markdown": "\nA matrix: 5 × 2 of type dbl\n\n| n | o |\n|---|---|\n| 10 | 1 |\n| 10 | 2 |\n| 10 | 3 |\n| 10 | 4 |\n| 10 | 5 |\n\n",
            "text/latex": "A matrix: 5 × 2 of type dbl\n\\begin{tabular}{ll}\n n & o\\\\\n\\hline\n\t 10 & 1\\\\\n\t 10 & 2\\\\\n\t 10 & 3\\\\\n\t 10 & 4\\\\\n\t 10 & 5\\\\\n\\end{tabular}\n",
            "text/plain": [
              "     n  o\n",
              "[1,] 10 1\n",
              "[2,] 10 2\n",
              "[3,] 10 3\n",
              "[4,] 10 4\n",
              "[5,] 10 5"
            ]
          },
          "metadata": {}
        }
      ]
    },
    {
      "cell_type": "code",
      "source": [
        "q <- rbind(n, o)\n",
        "q"
      ],
      "metadata": {
        "colab": {
          "base_uri": "https://localhost:8080/",
          "height": 114
        },
        "id": "-fJhjMgRYx8F",
        "outputId": "d82be3e4-1516-4a3b-cbeb-42420aa7f0d1"
      },
      "execution_count": 39,
      "outputs": [
        {
          "output_type": "display_data",
          "data": {
            "text/html": [
              "<table class=\"dataframe\">\n",
              "<caption>A matrix: 2 × 5 of type dbl</caption>\n",
              "<tbody>\n",
              "\t<tr><th scope=row>n</th><td>10</td><td>10</td><td>10</td><td>10</td><td>10</td></tr>\n",
              "\t<tr><th scope=row>o</th><td> 1</td><td> 2</td><td> 3</td><td> 4</td><td> 5</td></tr>\n",
              "</tbody>\n",
              "</table>\n"
            ],
            "text/markdown": "\nA matrix: 2 × 5 of type dbl\n\n| n | 10 | 10 | 10 | 10 | 10 |\n| o |  1 |  2 |  3 |  4 |  5 |\n\n",
            "text/latex": "A matrix: 2 × 5 of type dbl\n\\begin{tabular}{r|lllll}\n\tn & 10 & 10 & 10 & 10 & 10\\\\\n\to &  1 &  2 &  3 &  4 &  5\\\\\n\\end{tabular}\n",
            "text/plain": [
              "  [,1] [,2] [,3] [,4] [,5]\n",
              "n 10   10   10   10   10  \n",
              "o  1    2    3    4    5  "
            ]
          },
          "metadata": {}
        }
      ]
    },
    {
      "cell_type": "code",
      "source": [
        "r <- matrix(1:4, 2, 2)\n",
        "r"
      ],
      "metadata": {
        "colab": {
          "base_uri": "https://localhost:8080/",
          "height": 184
        },
        "id": "WzNW4N-XYzuR",
        "outputId": "1ef36e9d-c160-4de5-a2c9-3c9b662f6f71"
      },
      "execution_count": 40,
      "outputs": [
        {
          "output_type": "display_data",
          "data": {
            "text/html": [
              "<table class=\"dataframe\">\n",
              "<caption>A matrix: 2 × 2 of type int</caption>\n",
              "<tbody>\n",
              "\t<tr><td>1</td><td>3</td></tr>\n",
              "\t<tr><td>2</td><td>4</td></tr>\n",
              "</tbody>\n",
              "</table>\n"
            ],
            "text/markdown": "\nA matrix: 2 × 2 of type int\n\n| 1 | 3 |\n| 2 | 4 |\n\n",
            "text/latex": "A matrix: 2 × 2 of type int\n\\begin{tabular}{ll}\n\t 1 & 3\\\\\n\t 2 & 4\\\\\n\\end{tabular}\n",
            "text/plain": [
              "     [,1] [,2]\n",
              "[1,] 1    3   \n",
              "[2,] 2    4   "
            ]
          },
          "metadata": {}
        }
      ]
    },
    {
      "cell_type": "code",
      "source": [
        "s <- matrix(c(1, 4, 2, 7), 2, 2)\n",
        "s"
      ],
      "metadata": {
        "colab": {
          "base_uri": "https://localhost:8080/",
          "height": 184
        },
        "id": "7lBhYr7WaB4T",
        "outputId": "7e07922e-89b8-4da6-9ae5-d27574f69da3"
      },
      "execution_count": 41,
      "outputs": [
        {
          "output_type": "display_data",
          "data": {
            "text/html": [
              "<table class=\"dataframe\">\n",
              "<caption>A matrix: 2 × 2 of type dbl</caption>\n",
              "<tbody>\n",
              "\t<tr><td>1</td><td>2</td></tr>\n",
              "\t<tr><td>4</td><td>7</td></tr>\n",
              "</tbody>\n",
              "</table>\n"
            ],
            "text/markdown": "\nA matrix: 2 × 2 of type dbl\n\n| 1 | 2 |\n| 4 | 7 |\n\n",
            "text/latex": "A matrix: 2 × 2 of type dbl\n\\begin{tabular}{ll}\n\t 1 & 2\\\\\n\t 4 & 7\\\\\n\\end{tabular}\n",
            "text/plain": [
              "     [,1] [,2]\n",
              "[1,] 1    2   \n",
              "[2,] 4    7   "
            ]
          },
          "metadata": {}
        }
      ]
    },
    {
      "cell_type": "code",
      "source": [
        "r+s"
      ],
      "metadata": {
        "colab": {
          "base_uri": "https://localhost:8080/",
          "height": 167
        },
        "id": "JRAUtTCraFE3",
        "outputId": "2a1fa60c-669b-4be5-a3d8-1a2b8f82860b"
      },
      "execution_count": 42,
      "outputs": [
        {
          "output_type": "display_data",
          "data": {
            "text/html": [
              "<table class=\"dataframe\">\n",
              "<caption>A matrix: 2 × 2 of type dbl</caption>\n",
              "<tbody>\n",
              "\t<tr><td>2</td><td> 5</td></tr>\n",
              "\t<tr><td>6</td><td>11</td></tr>\n",
              "</tbody>\n",
              "</table>\n"
            ],
            "text/markdown": "\nA matrix: 2 × 2 of type dbl\n\n| 2 |  5 |\n| 6 | 11 |\n\n",
            "text/latex": "A matrix: 2 × 2 of type dbl\n\\begin{tabular}{ll}\n\t 2 &  5\\\\\n\t 6 & 11\\\\\n\\end{tabular}\n",
            "text/plain": [
              "     [,1] [,2]\n",
              "[1,] 2     5  \n",
              "[2,] 6    11  "
            ]
          },
          "metadata": {}
        }
      ]
    },
    {
      "cell_type": "code",
      "source": [
        "r %*% s"
      ],
      "metadata": {
        "colab": {
          "base_uri": "https://localhost:8080/",
          "height": 132
        },
        "id": "20naXyIraGAK",
        "outputId": "cccb1145-064e-43fc-9686-64a9726b7abb"
      },
      "execution_count": 43,
      "outputs": [
        {
          "output_type": "display_data",
          "data": {
            "text/html": [
              "<table class=\"dataframe\">\n",
              "<caption>A matrix: 2 × 2 of type dbl</caption>\n",
              "<tbody>\n",
              "\t<tr><td>13</td><td>23</td></tr>\n",
              "\t<tr><td>18</td><td>32</td></tr>\n",
              "</tbody>\n",
              "</table>\n"
            ],
            "text/markdown": "\nA matrix: 2 × 2 of type dbl\n\n| 13 | 23 |\n| 18 | 32 |\n\n",
            "text/latex": "A matrix: 2 × 2 of type dbl\n\\begin{tabular}{ll}\n\t 13 & 23\\\\\n\t 18 & 32\\\\\n\\end{tabular}\n",
            "text/plain": [
              "     [,1] [,2]\n",
              "[1,] 13   23  \n",
              "[2,] 18   32  "
            ]
          },
          "metadata": {}
        }
      ]
    },
    {
      "cell_type": "code",
      "source": [
        "solve(s)"
      ],
      "metadata": {
        "colab": {
          "base_uri": "https://localhost:8080/",
          "height": 149
        },
        "id": "C9aEfa3taHSE",
        "outputId": "816792ee-a3c9-4616-ee47-678db3c8ca3b"
      },
      "execution_count": 44,
      "outputs": [
        {
          "output_type": "display_data",
          "data": {
            "text/html": [
              "<table class=\"dataframe\">\n",
              "<caption>A matrix: 2 × 2 of type dbl</caption>\n",
              "<tbody>\n",
              "\t<tr><td>-7</td><td> 2</td></tr>\n",
              "\t<tr><td> 4</td><td>-1</td></tr>\n",
              "</tbody>\n",
              "</table>\n"
            ],
            "text/markdown": "\nA matrix: 2 × 2 of type dbl\n\n| -7 |  2 |\n|  4 | -1 |\n\n",
            "text/latex": "A matrix: 2 × 2 of type dbl\n\\begin{tabular}{ll}\n\t -7 &  2\\\\\n\t  4 & -1\\\\\n\\end{tabular}\n",
            "text/plain": [
              "     [,1] [,2]\n",
              "[1,] -7    2  \n",
              "[2,]  4   -1  "
            ]
          },
          "metadata": {}
        }
      ]
    },
    {
      "cell_type": "code",
      "source": [
        "s[1, 2]"
      ],
      "metadata": {
        "colab": {
          "base_uri": "https://localhost:8080/",
          "height": 34
        },
        "id": "Xdo306lHaIg5",
        "outputId": "13ccf146-c031-4985-aa99-8180315d949d"
      },
      "execution_count": 45,
      "outputs": [
        {
          "output_type": "display_data",
          "data": {
            "text/html": [
              "2"
            ],
            "text/markdown": "2",
            "text/latex": "2",
            "text/plain": [
              "[1] 2"
            ]
          },
          "metadata": {}
        }
      ]
    },
    {
      "cell_type": "code",
      "source": [
        "s[1,]"
      ],
      "metadata": {
        "colab": {
          "base_uri": "https://localhost:8080/",
          "height": 34
        },
        "id": "Se4llvJYaMVo",
        "outputId": "c8c7afee-8869-46f9-838f-e9ce0556e8d7"
      },
      "execution_count": 46,
      "outputs": [
        {
          "output_type": "display_data",
          "data": {
            "text/html": [
              "<style>\n",
              ".list-inline {list-style: none; margin:0; padding: 0}\n",
              ".list-inline>li {display: inline-block}\n",
              ".list-inline>li:not(:last-child)::after {content: \"\\00b7\"; padding: 0 .5ex}\n",
              "</style>\n",
              "<ol class=list-inline><li>1</li><li>2</li></ol>\n"
            ],
            "text/markdown": "1. 1\n2. 2\n\n\n",
            "text/latex": "\\begin{enumerate*}\n\\item 1\n\\item 2\n\\end{enumerate*}\n",
            "text/plain": [
              "[1] 1 2"
            ]
          },
          "metadata": {}
        }
      ]
    },
    {
      "cell_type": "code",
      "source": [
        "s[,2]"
      ],
      "metadata": {
        "colab": {
          "base_uri": "https://localhost:8080/",
          "height": 34
        },
        "id": "8YCwJbs1aM63",
        "outputId": "7558c3a7-3dd6-46c2-cc43-0807014646dd"
      },
      "execution_count": 47,
      "outputs": [
        {
          "output_type": "display_data",
          "data": {
            "text/html": [
              "<style>\n",
              ".list-inline {list-style: none; margin:0; padding: 0}\n",
              ".list-inline>li {display: inline-block}\n",
              ".list-inline>li:not(:last-child)::after {content: \"\\00b7\"; padding: 0 .5ex}\n",
              "</style>\n",
              "<ol class=list-inline><li>2</li><li>7</li></ol>\n"
            ],
            "text/markdown": "1. 2\n2. 7\n\n\n",
            "text/latex": "\\begin{enumerate*}\n\\item 2\n\\item 7\n\\end{enumerate*}\n",
            "text/plain": [
              "[1] 2 7"
            ]
          },
          "metadata": {}
        }
      ]
    },
    {
      "cell_type": "markdown",
      "source": [
        "## 데이터 프레임 (data frame)"
      ],
      "metadata": {
        "id": "OT3isowkaOkM"
      }
    },
    {
      "cell_type": "markdown",
      "source": [
        "- 행렬과 비슷하나 데이터형이 다른 벡터들도 하나의 데이터 프레임에 저장 가능\n",
        "- data.frame() 함수 이용해서 생성"
      ],
      "metadata": {
        "id": "Q5LZ5LfXaR9s"
      }
    },
    {
      "cell_type": "code",
      "source": [
        "name <- c('Kim', 'Lee', 'Park', 'Choi')\n",
        "age <- c(20, 32, 17, 51)\n",
        "sex <- as.factor(c('Male', 'Female', 'Female', 'Female'))\n",
        "\n",
        "dat <- data.frame(name, age, sex)"
      ],
      "metadata": {
        "id": "uI1gD6JRaNg9"
      },
      "execution_count": 49,
      "outputs": []
    },
    {
      "cell_type": "code",
      "source": [
        "dat$age"
      ],
      "metadata": {
        "colab": {
          "base_uri": "https://localhost:8080/",
          "height": 34
        },
        "id": "7zHLIUuAaalV",
        "outputId": "36b6d601-96b4-422e-f2a2-997051a9c1bd"
      },
      "execution_count": 50,
      "outputs": [
        {
          "output_type": "display_data",
          "data": {
            "text/html": [
              "<style>\n",
              ".list-inline {list-style: none; margin:0; padding: 0}\n",
              ".list-inline>li {display: inline-block}\n",
              ".list-inline>li:not(:last-child)::after {content: \"\\00b7\"; padding: 0 .5ex}\n",
              "</style>\n",
              "<ol class=list-inline><li>20</li><li>32</li><li>17</li><li>51</li></ol>\n"
            ],
            "text/markdown": "1. 20\n2. 32\n3. 17\n4. 51\n\n\n",
            "text/latex": "\\begin{enumerate*}\n\\item 20\n\\item 32\n\\item 17\n\\item 51\n\\end{enumerate*}\n",
            "text/plain": [
              "[1] 20 32 17 51"
            ]
          },
          "metadata": {}
        }
      ]
    },
    {
      "cell_type": "code",
      "source": [
        "dat$name"
      ],
      "metadata": {
        "colab": {
          "base_uri": "https://localhost:8080/",
          "height": 34
        },
        "id": "sdjOrFp1anul",
        "outputId": "2c177497-5aac-494a-ae4f-949060bc7a3a"
      },
      "execution_count": 51,
      "outputs": [
        {
          "output_type": "display_data",
          "data": {
            "text/html": [
              "<style>\n",
              ".list-inline {list-style: none; margin:0; padding: 0}\n",
              ".list-inline>li {display: inline-block}\n",
              ".list-inline>li:not(:last-child)::after {content: \"\\00b7\"; padding: 0 .5ex}\n",
              "</style>\n",
              "<ol class=list-inline><li>'Kim'</li><li>'Lee'</li><li>'Park'</li><li>'Choi'</li></ol>\n"
            ],
            "text/markdown": "1. 'Kim'\n2. 'Lee'\n3. 'Park'\n4. 'Choi'\n\n\n",
            "text/latex": "\\begin{enumerate*}\n\\item 'Kim'\n\\item 'Lee'\n\\item 'Park'\n\\item 'Choi'\n\\end{enumerate*}\n",
            "text/plain": [
              "[1] \"Kim\"  \"Lee\"  \"Park\" \"Choi\""
            ]
          },
          "metadata": {}
        }
      ]
    },
    {
      "cell_type": "code",
      "source": [
        "dat$sex"
      ],
      "metadata": {
        "colab": {
          "base_uri": "https://localhost:8080/",
          "height": 52
        },
        "id": "2zY0shyZaomk",
        "outputId": "db1b221e-37b9-4882-81b4-51ec1d814f18"
      },
      "execution_count": 52,
      "outputs": [
        {
          "output_type": "display_data",
          "data": {
            "text/html": [
              "<style>\n",
              ".list-inline {list-style: none; margin:0; padding: 0}\n",
              ".list-inline>li {display: inline-block}\n",
              ".list-inline>li:not(:last-child)::after {content: \"\\00b7\"; padding: 0 .5ex}\n",
              "</style>\n",
              "<ol class=list-inline><li>Male</li><li>Female</li><li>Female</li><li>Female</li></ol>\n",
              "\n",
              "<details>\n",
              "\t<summary style=display:list-item;cursor:pointer>\n",
              "\t\t<strong>Levels</strong>:\n",
              "\t</summary>\n",
              "\t<style>\n",
              "\t.list-inline {list-style: none; margin:0; padding: 0}\n",
              "\t.list-inline>li {display: inline-block}\n",
              "\t.list-inline>li:not(:last-child)::after {content: \"\\00b7\"; padding: 0 .5ex}\n",
              "\t</style>\n",
              "\t<ol class=list-inline><li>'Female'</li><li>'Male'</li></ol>\n",
              "</details>"
            ],
            "text/markdown": "1. Male\n2. Female\n3. Female\n4. Female\n\n\n\n**Levels**: 1. 'Female'\n2. 'Male'\n\n\n",
            "text/latex": "\\begin{enumerate*}\n\\item Male\n\\item Female\n\\item Female\n\\item Female\n\\end{enumerate*}\n\n\\emph{Levels}: \\begin{enumerate*}\n\\item 'Female'\n\\item 'Male'\n\\end{enumerate*}\n",
            "text/plain": [
              "[1] Male   Female Female Female\n",
              "Levels: Female Male"
            ]
          },
          "metadata": {}
        }
      ]
    },
    {
      "cell_type": "code",
      "source": [],
      "metadata": {
        "id": "ch7iokfDapej"
      },
      "execution_count": null,
      "outputs": []
    }
  ]
}